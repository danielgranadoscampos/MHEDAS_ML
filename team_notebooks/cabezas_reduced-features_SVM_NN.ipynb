{
 "cells": [
  {
   "cell_type": "markdown",
   "id": "973ac52c",
   "metadata": {},
   "source": [
    "# 🧠 SVM + Feature Selection + PCA\n",
    "\n",
    "This pipeline performs classification using a Support Vector Machine (SVM) with a radial basis function (RBF) kernel. The workflow includes:\n",
    "\t1.\tStandardization of the radiomics data using StandardScaler to ensure all features contribute equally.\n",
    "\t2.\tFeature selection using SelectKBest with mutual_info_classif, a proxy for mRMR (Minimum Redundancy Maximum Relevance). This selects the top 50 most relevant features with respect to the target class.\n",
    "\t3.\tDimensionality reduction via Principal Component Analysis (PCA) to project the data onto 10 principal components, simplifying the feature space while preserving variance.\n",
    "\t4.\tClassification with an SVM, a powerful algorithm for high-dimensional data, using stratified 5-fold cross-validation to evaluate its performance robustly."
   ]
  },
  {
   "cell_type": "code",
   "execution_count": 1,
   "id": "d2d9fc87",
   "metadata": {},
   "outputs": [
    {
     "name": "stdout",
     "output_type": "stream",
     "text": [
      "Accuracy scores for each fold: [0.85 0.85 0.8  0.9  0.9 ]\n",
      "Mean accuracy: 0.86\n",
      "Standard deviation: 0.03741657386773941\n"
     ]
    }
   ],
   "source": [
    "import pandas as pd\n",
    "from sklearn.feature_selection import SelectKBest, mutual_info_classif\n",
    "from sklearn.decomposition import PCA\n",
    "from sklearn.svm import SVC\n",
    "from sklearn.preprocessing import StandardScaler\n",
    "from sklearn.pipeline import Pipeline\n",
    "from sklearn.model_selection import cross_val_score, StratifiedKFold\n",
    "from sklearn.metrics import make_scorer, accuracy_score\n",
    "\n",
    "# Load the dataset\n",
    "df = pd.read_csv(r\"../datasets/ACDC_radiomics.csv\") \n",
    "\n",
    "# Separate features and target\n",
    "X = df.drop(columns=[\"class\"])\n",
    "y = df[\"class\"]\n",
    "\n",
    "# Define the pipeline: scaling, feature selection, PCA, SVM\n",
    "pipeline = Pipeline([\n",
    "    (\"scaler\", StandardScaler()),\n",
    "    (\"select\", SelectKBest(score_func=mutual_info_classif, k=50)),  # mRMR-like selection\n",
    "    (\"pca\", PCA(n_components=10)),\n",
    "    (\"svm\", SVC(kernel=\"rbf\", class_weight=\"balanced\"))\n",
    "])\n",
    "\n",
    "# Configure stratified K-Fold cross-validation\n",
    "cv = StratifiedKFold(n_splits=5, shuffle=True, random_state=42)\n",
    "\n",
    "# Run cross-validation using accuracy as the metric\n",
    "scores = cross_val_score(pipeline, X, y, cv=cv, scoring=make_scorer(accuracy_score))\n",
    "\n",
    "# Display results\n",
    "print(\"Accuracy scores for each fold:\", scores)\n",
    "print(\"Mean accuracy:\", scores.mean())\n",
    "print(\"Standard deviation:\", scores.std())"
   ]
  },
  {
   "cell_type": "markdown",
   "id": "7755b427",
   "metadata": {},
   "source": [
    "# 🧠 Neural Network (NN) + Feature Selection + PCA\n",
    "This pipeline follows the same preprocessing structure as the SVM pipeline but replaces the classifier with a Neural Network (MLPClassifier):\n",
    "\t1.\tStandardization is applied to center and scale the data.\n",
    "\t2.\tFeature selection is done using mutual_info_classif to retain the 50 most informative features.\n",
    "\t3.\tPCA is applied to reduce the selected features down to 10 components.\n",
    "\t4.\tClassification is carried out using a Multi-layer Perceptron (MLP) with one hidden layer of 100 neurons. Like the SVM pipeline, it uses 5-fold stratified cross-validation to measure model performance."
   ]
  },
  {
   "cell_type": "code",
   "execution_count": 2,
   "id": "9e336322",
   "metadata": {},
   "outputs": [
    {
     "name": "stdout",
     "output_type": "stream",
     "text": [
      "Accuracy scores for each fold: [0.9  0.85 0.95 0.9  0.75]\n",
      "Mean accuracy: 0.8699999999999999\n",
      "Standard deviation: 0.06782329983125268\n"
     ]
    }
   ],
   "source": [
    "import pandas as pd\n",
    "from sklearn.feature_selection import SelectKBest, mutual_info_classif\n",
    "from sklearn.decomposition import PCA\n",
    "from sklearn.neural_network import MLPClassifier\n",
    "from sklearn.preprocessing import StandardScaler\n",
    "from sklearn.pipeline import Pipeline\n",
    "from sklearn.model_selection import cross_val_score, StratifiedKFold\n",
    "from sklearn.metrics import make_scorer, accuracy_score\n",
    "\n",
    "# Load dataset\n",
    "df = pd.read_csv(r\"../datasets/ACDC_radiomics.csv\") \n",
    "\n",
    "# Split features and target\n",
    "X = df.drop(columns=[\"class\"])\n",
    "y = df[\"class\"]\n",
    "\n",
    "# Define pipeline: scaling, feature selection, PCA, and NN classifier\n",
    "pipeline = Pipeline([\n",
    "    (\"scaler\", StandardScaler()),\n",
    "    (\"select\", SelectKBest(score_func=mutual_info_classif, k=50)),\n",
    "    (\"pca\", PCA(n_components=10)),\n",
    "    (\"nn\", MLPClassifier(hidden_layer_sizes=(100,), max_iter=1000, random_state=42))\n",
    "])\n",
    "\n",
    "# Stratified K-Fold CV setup\n",
    "cv = StratifiedKFold(n_splits=5, shuffle=True, random_state=42)\n",
    "\n",
    "# Cross-validation with accuracy\n",
    "scores = cross_val_score(pipeline, X, y, cv=cv, scoring=make_scorer(accuracy_score))\n",
    "\n",
    "# Results\n",
    "print(\"Accuracy scores for each fold:\", scores)\n",
    "print(\"Mean accuracy:\", scores.mean())\n",
    "print(\"Standard deviation:\", scores.std())"
   ]
  }
 ],
 "metadata": {
  "kernelspec": {
   "display_name": ".venv",
   "language": "python",
   "name": "python3"
  },
  "language_info": {
   "codemirror_mode": {
    "name": "ipython",
    "version": 3
   },
   "file_extension": ".py",
   "mimetype": "text/x-python",
   "name": "python",
   "nbconvert_exporter": "python",
   "pygments_lexer": "ipython3",
   "version": "3.13.3"
  }
 },
 "nbformat": 4,
 "nbformat_minor": 5
}
